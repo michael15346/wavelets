{
 "cells": [
  {
   "cell_type": "markdown",
   "id": "fbb759cc-fcb0-4d66-bf0e-5426ea09da59",
   "metadata": {},
   "source": [
    "### Добавление, проверка и извлечение всплесков из JSON"
   ]
  },
  {
   "cell_type": "code",
   "id": "224e8362-6da3-44b4-a789-01c108f6441e",
   "metadata": {
    "ExecuteTime": {
     "end_time": "2025-08-22T07:36:46.088447Z",
     "start_time": "2025-08-22T07:36:46.082285Z"
    }
   },
   "source": [
    "import numpy as np\n",
    "\n",
    "from classic.wave import wavedec, waverec, convolve\n",
    "from metrics import psnr\n",
    "from offset_tensor import OffsetTensor\n",
    "from periodic.wave import wavedec_period, waverec_period\n",
    "from wavelet import Wavelet\n",
    "\n",
    "from utils import OffsetMatrixConjugate"
   ],
   "outputs": [],
   "execution_count": 4
  },
  {
   "cell_type": "markdown",
   "id": "e2cb11ec-2ca8-4507-8811-1e7ffe302a59",
   "metadata": {},
   "source": [
    "##### Код"
   ]
  },
  {
   "cell_type": "code",
   "execution_count": 4,
   "id": "473673b5-7ccd-46a5-b1f2-a61143cd060a",
   "metadata": {},
   "outputs": [],
   "source": [
    "# Из Git\n",
    "def to_python(x, y, offset):\n",
    "    return x - offset[0], y - offset[1]\n",
    "\n",
    "\n",
    "def to_coord(row, col, offset):\n",
    "    return offset[0]+col, offset[1]-row\n",
    "\n",
    "\n",
    "def to_python_vect(coords, offset):\n",
    "    return coords.T[0] - offset[0], coords.T[1]-offset[1]\n",
    "\n",
    "def CoefCoords2OffsetMatrix(a):  # a filter in coef-coords form\n",
    "    coef = a[0]\n",
    "    coords = a[1]\n",
    "    x_left, y_bottom = list(np.min(np.transpose(coords), axis=1))\n",
    "    x_right, y_up = list(np.max(np.transpose(coords), axis=1))\n",
    "    shape = [x_right-x_left+1, y_up-y_bottom+1]\n",
    "    offset = np.array([x_left, y_bottom])\n",
    "    matrix = np.zeros(shape)\n",
    "    for ind, coord in enumerate(coords):\n",
    "        row, col = to_python(coord[0], coord[1], offset)\n",
    "        matrix[row, col] = coef[ind]\n",
    "    return OffsetMatrix(matrix, offset)\n",
    "\n",
    "def OffsetMatrix2CoefCoords(a: OffsetMatrix):\n",
    "    shape = a.matrix.shape\n",
    "    offset = a.offset\n",
    "    coef = []\n",
    "    coords = []\n",
    "    for i in range(shape[0]):\n",
    "        for j in range(shape[1]):\n",
    "            if a.matrix[i, j] != 0:\n",
    "                coef.append(a.matrix[i, j])\n",
    "                coords.append([offset[0]+i, offset[1]+j])\n",
    "    if len(coef) == 0:\n",
    "        coef, coords = [0], [[0,0]]\n",
    "    return np.array(coef), np.array(coords)"
   ]
  },
  {
   "cell_type": "code",
   "id": "2ccfaf35-d70a-41d7-91e5-761ae1a47e8f",
   "metadata": {
    "ExecuteTime": {
     "end_time": "2025-08-22T07:36:49.262568Z",
     "start_time": "2025-08-22T07:36:49.128700Z"
    }
   },
   "source": [
    "from itertools import product as direct_product\n",
    "\n",
    "def createWaveletFromContent(content):\n",
    "    M = np.array(content['DilationMatrix'])\n",
    "    coeffs = np.array(content['Mask']['Coeffs']) / content['Mask']['CoeffsDenominator']\n",
    "    coords = np.array(content['Mask']['Coords'])\n",
    "    h = CoefCoords2OffsetMatrix((coeffs,coords))\n",
    "\n",
    "    coeffs = np.array(content['DualMask']['Coeffs']) / content['DualMask']['CoeffsDenominator']\n",
    "    coords = np.array(content['DualMask']['Coords'])\n",
    "    hdual = CoefCoords2OffsetMatrix((coeffs,coords))\n",
    "    \n",
    "    g = []\n",
    "    for wmask in content['WaveletMasks']:\n",
    "        coeffs = np.array(content['WaveletMasks'][wmask]['Coeffs']) / content['WaveletMasks'][wmask]['CoeffsDenominator']\n",
    "        coords = np.array(content['WaveletMasks'][wmask]['Coords'])\n",
    "        g.append(CoefCoords2OffsetMatrix((coeffs,coords)))\n",
    "    g = tuple(g)\n",
    "\n",
    "    gdual = []\n",
    "    for wmask in content['DualWaveletMasks']:\n",
    "        coeffs = np.array(content['DualWaveletMasks'][wmask]['Coeffs']) / content['DualWaveletMasks'][wmask]['CoeffsDenominator']\n",
    "        coords = np.array(content['DualWaveletMasks'][wmask]['Coords'])\n",
    "        gdual.append(CoefCoords2OffsetMatrix((coeffs,coords)))\n",
    "    gdual = tuple(gdual)   \n",
    "\n",
    "    return Wavelet(h, g, hdual, gdual, M, abs(np.linalg.det(M)))\n",
    "\n",
    "\n",
    "\n",
    "\n",
    "\n",
    "def DeltaN(n, d):\n",
    "    cube = direct_product(range(n), repeat=d)\n",
    "    result = []\n",
    "    for coord in cube:\n",
    "        if sum(coord) < n:\n",
    "            result.append(list(coord))\n",
    "    return result\n",
    "\n",
    "def PlaneN(n, d):\n",
    "    cube = direct_product(range(n), repeat=d)\n",
    "    result = []\n",
    "    for coord in cube:\n",
    "        if sum(coord) == n-1:\n",
    "            result.append(list(coord))\n",
    "    return result\n",
    "\n",
    "def MatrixOfPowers(aCoords, bPowers):\n",
    "    matrix = np.zeros((len(aCoords), len(bPowers)))\n",
    "    for i, ai in enumerate(aCoords):\n",
    "        for j, bj in enumerate(bPowers):\n",
    "            matrix[i,j] = np.prod(np.power(ai, bj))\n",
    "    return matrix\n",
    "\n",
    "def VM(wmask: OffsetMatrix, tolerance=1e-6, max_vm=None):\n",
    "    \"\"\"\n",
    "    Calculate the order of vanishing moments a wavelet filter.\n",
    "    \n",
    "    Args:\n",
    "        wmask (OffsetMatrix): Wavelet filter in the OffsetMatrix form.\n",
    "        tolerance (float, optional): Numerical tolerance to consider sum as zero. Defaults to 1e-6.\n",
    "        max_vm (int, optional): Maximum order to check. Defaults to the length of coefficients.\n",
    "    \n",
    "    Returns:\n",
    "        int: Order of vanishing moments.\n",
    "    \"\"\"\n",
    "    (coefs, coords) = OffsetMatrix2CoefCoords(wmask)\n",
    "    d = len(wmask.offset)\n",
    "    vm = 1\n",
    "    if max_vm is None:\n",
    "        max_vm = len(coefs)\n",
    "    \n",
    "    while vm <= max_vm:\n",
    "        bPowers = PlaneN(vm, d)\n",
    "        MatrixOfPowers(coords, bPowers)\n",
    "        vm_check = np.dot(coefs, MatrixOfPowers(coords, bPowers))\n",
    "\n",
    "        if sum(abs(vm_check)) < tolerance:\n",
    "            vm += 1\n",
    "        else:\n",
    "            break\n",
    "    \n",
    "    return vm - 1\n",
    "\n",
    "def SetOfDigitsFinder(M):\n",
    "    dim = len(M)\n",
    "    Minv = np.linalg.inv(M)\n",
    "\n",
    "    min_corner = np.zeros(dim, dtype = np.int32)\n",
    "    max_corner = np.ones(dim, dtype = np.int32)\n",
    "    cube_corners = M @ np.array(list(direct_product(*zip(list(min_corner), list(max_corner))))).T\n",
    "\n",
    "    all_min_corner = np.ceil(np.min(cube_corners, axis = 1)).astype(np.int32)\n",
    "    all_max_corner = np.floor(np.max(cube_corners, axis = 1)).astype(np.int32)\n",
    "    cube_inside_coords = np.mgrid[*tuple(map(slice, tuple(all_min_corner), tuple(all_max_corner+np.ones(dim, dtype = np.int32))))].reshape(dim, -1)  \n",
    "\n",
    "    Mcoords = (Minv @ cube_inside_coords).T\n",
    "    mask = np.all(np.floor(Mcoords).astype(np.int32) == np.zeros(dim, dtype = np.int32), axis=1)\n",
    "    return cube_inside_coords.T[mask]\n",
    "\n",
    "def Mask2Polyphase(mask: OffsetMatrix, M, digits = None):\n",
    "    if digits is None:\n",
    "        digits = SetOfDigitsFinder(M)\n",
    "        \n",
    "    (coefs, coords) = OffsetMatrix2CoefCoords(mask)\n",
    "    m = round(np.abs(np.linalg.det(M)))\n",
    "    Minv = np.linalg.inv(M)\n",
    "    Minv_pre = np.rint((m * np.linalg.inv(M))).astype(np.int32)\n",
    "    dim = len(M)\n",
    "\n",
    "    polyphases = []\n",
    "    for digit in digits:\n",
    "        pre_poly_coords = Minv_pre @ (coords - digit).T\n",
    "        mask = np.all(np.mod(pre_poly_coords, m) == 0, axis=0)\n",
    "        poly_coords = pre_poly_coords.T[mask]//m\n",
    "        poly_coefs = coefs[mask]\n",
    "        if len(poly_coefs)==0:\n",
    "            polyphases.append(CoefCoords2OffsetMatrix(([0], [np.zeros(dim, dtype = np.int32)])))\n",
    "        else:\n",
    "            polyphases.append(CoefCoords2OffsetMatrix((poly_coefs, poly_coords)))\n",
    "\n",
    "    return polyphases\n",
    "\n",
    "def SR(mask: OffsetMatrix, M, digits = None, tolerance=1e-6, max_sr=None):\n",
    "    \"\"\"\n",
    "    Calculate the order of sum rule of filter.\n",
    "    \n",
    "    Args:\n",
    "        mask (OffsetMatrix): Wavelet filter in the OffsetMatrix form.\n",
    "        M: matrix dilation.\n",
    "        digits: the set of digits\n",
    "        tolerance (float, optional): Numerical tolerance to consider sum as zero. Defaults to 1e-6.\n",
    "        max_sr (int, optional): Maximum order to check. Defaults to the length of coefficients.\n",
    "    \n",
    "    Returns:\n",
    "        int: Order of sum rule.\n",
    "    \"\"\"\n",
    "    if digits is None:\n",
    "        digits = SetOfDigitsFinder(M)\n",
    "    polyphases = Mask2Polyphase(mask, M)\n",
    "    d = len(M)\n",
    "    sr = 1\n",
    "    if max_sr is None:\n",
    "        max_sr = 20\n",
    "    \n",
    "    while sr <= max_sr:\n",
    "        bPowers = PlaneN(sr, d)\n",
    "        sr_check = None\n",
    "        sr_stop = False\n",
    "        for digit, polyphase in zip(digits, polyphases):\n",
    "            (poly_coefs, poly_coords) = OffsetMatrix2CoefCoords(polyphase)\n",
    "            poly_coords = (poly_coords @ M.T) + digit\n",
    "            if sr_check is None:\n",
    "                sr_check = np.dot(poly_coefs, MatrixOfPowers(poly_coords, bPowers))\n",
    "            else:\n",
    "                if not np.allclose(sr_check, np.dot(poly_coefs, MatrixOfPowers(poly_coords, bPowers)), atol = tolerance):\n",
    "                    sr_stop = True\n",
    "        if sr_stop:\n",
    "            break\n",
    "        sr = sr + 1\n",
    "        if sr > max_sr:\n",
    "            break      \n",
    "\n",
    "    return sr - 1\n",
    "\n",
    "def PRP_check(w: Wavelet, digits = None, tolerance = 1e-6):\n",
    "    if digits is None:\n",
    "        digits = SetOfDigitsFinder(w.M)\n",
    "    polyphase_matrix = []\n",
    "    dual_polyphase_matrix = []\n",
    "    dim = len(w.M)\n",
    "    polyphase_matrix.append(Mask2Polyphase(w.h, w.M, digits))\n",
    "    dual_polyphase_matrix.append(Mask2Polyphase(w.hdual, w.M, digits))\n",
    "    for wmask in w.g:\n",
    "        polyphase_matrix.append(Mask2Polyphase(wmask, w.M, digits))\n",
    "    for dwmask in w.gdual:\n",
    "        dual_polyphase_matrix.append(Mask2Polyphase(dwmask, w.M, digits))    \n",
    "\n",
    "    PRP_matrix = []\n",
    "    PRP_valid = True\n",
    "    m = int(w.m)\n",
    "    for i in range(m):\n",
    "        PRP_matrix.append([])\n",
    "        for j in range(m):\n",
    "            tmp = OffsetMatrix(np.array([[0]]), np.array(np.zeros(dim, dtype = np.int32)))\n",
    "            for k in range(len(w.g)+1):\n",
    "                tmp = tmp + convolve(polyphase_matrix[k][i], OffsetMatrixConjugate(dual_polyphase_matrix[k][j]))\n",
    "            \n",
    "            if i == j:\n",
    "                tmp_check = np.zeros_like(tmp.matrix)\n",
    "                tmp_check[*(-np.array(tmp.offset))] = 1/w.m\n",
    "                if abs(np.sum(np.abs(tmp.matrix-tmp_check))) > tolerance:\n",
    "                    PRP_valid = False\n",
    "                    print(\"False:\", i,' ', j, ' ', tmp.matrix)\n",
    "            else:\n",
    "                if abs(np.sum(np.abs(tmp.matrix))) > tolerance:\n",
    "                    PRP_valid = False\n",
    "                    print(\"False:\", i,' ', j, ' ', tmp.matrix)\n",
    "                    \n",
    "            PRP_matrix[i].append(tmp)\n",
    "    return PRP_valid, PRP_matrix\n",
    "\n",
    "def checkContent(content):\n",
    "    w = createWaveletfromContent(content)\n",
    "    if SR(w.h, w.M) == content['Mask']['SR']:\n",
    "        print(\"Mask SR OK\")\n",
    "    else:\n",
    "        print(\"Mask SR wrong: by checker SR = \", SR(w.h, w.M),\n",
    "             \", by Database SR = \", content['Mask']['SR'])\n",
    "    if SR(w.hdual, w.M) == content['DualMask']['SR']:\n",
    "        print(\"Dual Mask SR OK\")\n",
    "    else:\n",
    "        print(\"Dual Mask SR wrong: by checker SR = \", SR(w.h, w.M),\n",
    "             \", by Database SR = \", content['DualMask']['SR'])\n",
    "\n",
    "    for wmask in w.g:\n",
    "        if VM(wmask) >= content['WaveletMasksVM']:\n",
    "            print(\"Wavelet Mask VM OK\")\n",
    "        else:\n",
    "            print(\"Wavelet Mask VM wrong: by checker VM = \", VM(wmask),\n",
    "                 \", by Database VM = \", content['WaveletMasksVM'])\n",
    "        \n",
    "    for wmask in w.gdual:\n",
    "        if VM(wmask) >= content['DualWaveletMasksVM']:\n",
    "            print(\"Dual Wavelet Mask VM OK\")\n",
    "        else:\n",
    "            print(\"Dual Wavelet Mask VM wrong: by checker VM = \", VM(wmask),\n",
    "                 \", by Database VM = \", content['DualWaveletMasksVM'])\n",
    "    PRP_valid, _ = PRP_check(w)\n",
    "    if PRP_valid:\n",
    "        print(\"PRP check OK\")\n",
    "    else:\n",
    "        print(\"PRP check Wrong\")"
   ],
   "outputs": [
    {
     "ename": "NameError",
     "evalue": "name 'OffsetMatrix' is not defined",
     "output_type": "error",
     "traceback": [
      "\u001B[31m---------------------------------------------------------------------------\u001B[39m",
      "\u001B[31mNameError\u001B[39m                                 Traceback (most recent call last)",
      "\u001B[36mCell\u001B[39m\u001B[36m \u001B[39m\u001B[32mIn[5]\u001B[39m\u001B[32m, line 56\u001B[39m\n\u001B[32m     53\u001B[39m             matrix[i,j] = np.prod(np.power(ai, bj))\n\u001B[32m     54\u001B[39m     \u001B[38;5;28;01mreturn\u001B[39;00m matrix\n\u001B[32m---> \u001B[39m\u001B[32m56\u001B[39m \u001B[38;5;28;01mdef\u001B[39;00m\u001B[38;5;250m \u001B[39m\u001B[34mVM\u001B[39m(wmask: OffsetMatrix, tolerance=\u001B[32m1e-6\u001B[39m, max_vm=\u001B[38;5;28;01mNone\u001B[39;00m):\n\u001B[32m     57\u001B[39m \u001B[38;5;250m    \u001B[39m\u001B[33;03m\"\"\"\u001B[39;00m\n\u001B[32m     58\u001B[39m \u001B[33;03m    Calculate the order of vanishing moments a wavelet filter.\u001B[39;00m\n\u001B[32m     59\u001B[39m \n\u001B[32m   (...)\u001B[39m\u001B[32m     66\u001B[39m \u001B[33;03m        int: Order of vanishing moments.\u001B[39;00m\n\u001B[32m     67\u001B[39m \u001B[33;03m    \"\"\"\u001B[39;00m\n\u001B[32m     68\u001B[39m     (coefs, coords) = OffsetMatrix2CoefCoords(wmask)\n",
      "\u001B[31mNameError\u001B[39m: name 'OffsetMatrix' is not defined"
     ]
    }
   ],
   "execution_count": 5
  },
  {
   "cell_type": "markdown",
   "id": "574ecc3f-b2e2-4fec-8994-d26348ec11f6",
   "metadata": {},
   "source": [
    "##### Проверка работы"
   ]
  },
  {
   "cell_type": "code",
   "id": "2cc559b0-c45d-480c-ae1c-18ab6a610344",
   "metadata": {
    "ExecuteTime": {
     "end_time": "2025-08-22T07:36:33.281276Z",
     "start_time": "2025-08-22T07:36:33.264381Z"
    }
   },
   "source": [
    "import json\n",
    "with open(\"WaveDB.json\", 'r') as j:\n",
    "     contents = json.loads(j.read())"
   ],
   "outputs": [],
   "execution_count": 1
  },
  {
   "cell_type": "code",
   "id": "5bf21946-eabd-45a0-b9e4-f44c2a89dfc8",
   "metadata": {
    "ExecuteTime": {
     "end_time": "2025-08-22T07:36:35.683558Z",
     "start_time": "2025-08-22T07:36:35.678222Z"
    }
   },
   "source": [
    "len(contents)"
   ],
   "outputs": [
    {
     "data": {
      "text/plain": [
       "12"
      ]
     },
     "execution_count": 2,
     "metadata": {},
     "output_type": "execute_result"
    }
   ],
   "execution_count": 2
  },
  {
   "cell_type": "code",
   "execution_count": 3,
   "id": "3c7be3b0-58a3-4ab1-b5f1-ad40e95d88c0",
   "metadata": {},
   "outputs": [
    {
     "name": "stdout",
     "output_type": "stream",
     "text": [
      "QuincunxRotation\n",
      "Frame-like Dual Wavelet System\n",
      "True\n",
      "[2, 1, 1]\n",
      "1.09619\n",
      "[1]\n",
      "-inf\n",
      "QuincunxRotation\n",
      "Frame-like Dual Wavelet System in L2\n",
      "True\n",
      "[2, 1, 1]\n",
      "1.09619\n",
      "[1, 2, 1]\n",
      "1.09619\n",
      "QuincunxRotation\n",
      "Frame-like Dual Wavelet System\n",
      "True\n",
      "[2, 1, 1]\n",
      "1.09619\n",
      "[8, 2, 2, -1, -1, -1, -1]\n",
      "-0.932076\n",
      "QuincunxRotation\n",
      "Frame-like Dual Wavelet System\n",
      "True\n",
      "[4, 1, 1, 1, 1]\n",
      "1.57764\n",
      "[1]\n",
      "-inf\n",
      "QuincunxRotation\n",
      "Frame-like Dual Wavelet System in L2\n",
      "True\n",
      "[4, 1, 1, 1, 1]\n",
      "1.57764\n",
      "[2, 1, 1]\n",
      "1.09619\n",
      "QuincunxRotation\n",
      "Dual Wavelet Frame\n",
      "True\n",
      "[4, 1, 1, 1, 1]\n",
      "1.57764\n",
      "[1272, 288, 288, 240, 240, -114, -114, -114, -114, -52, -52, -44, -44, -36, -36, -36, -36, -28, -28, -44, -44, 18, 18, 18, 18, 9, 9, 9, 9, 7, 7, 11, 11]\n",
      "0.300855\n"
     ]
    }
   ],
   "source": [
    "for content in contents:\n",
    "    print(content['DilationMatrixInfo'])\n",
    "    print(content['WaveletSystemType'])\n",
    "    print(content['InterpolatoryMask'])\n",
    "    print(content['Mask']['Coeffs'])\n",
    "    print(content['Mask']['SobolevSmoothness'])\n",
    "    print(content['DualMask']['Coeffs'])\n",
    "    print(content['DualMask']['SobolevSmoothness'])"
   ]
  },
  {
   "cell_type": "code",
   "execution_count": 44,
   "id": "7fe46a3f-5dbd-47f8-973f-f82071b030b1",
   "metadata": {},
   "outputs": [
    {
     "data": {
      "text/plain": [
       "[[1, -1], [1, 1]]"
      ]
     },
     "execution_count": 44,
     "metadata": {},
     "output_type": "execute_result"
    }
   ],
   "source": [
    "content['DilationMatrix']"
   ]
  },
  {
   "cell_type": "code",
   "execution_count": 56,
   "id": "4a379476-8635-4d57-8c27-b9b6ef7f3cb2",
   "metadata": {},
   "outputs": [
    {
     "data": {
      "text/plain": [
       "Wavelet(h=<offset_matrix.OffsetMatrix object at 0x0000020E6CC4A210>, g=(<offset_matrix.OffsetMatrix object at 0x0000020E6CC4A450>,), hdual=<offset_matrix.OffsetMatrix object at 0x0000020E6CC4A330>, gdual=(<offset_matrix.OffsetMatrix object at 0x0000020E6CC4A570>,), M=array([[ 1, -1],\n",
       "       [ 1,  1]]), m=np.float64(2.0))"
      ]
     },
     "execution_count": 56,
     "metadata": {},
     "output_type": "execute_result"
    }
   ],
   "source": [
    "wnew = createWaveletFromContent(contents[5])\n",
    "wnew"
   ]
  },
  {
   "cell_type": "code",
   "execution_count": 57,
   "id": "668737e5-d794-45cd-9a04-5f04093dffb6",
   "metadata": {},
   "outputs": [
    {
     "data": {
      "text/plain": [
       "array([[ 0.        ,  0.        ,  0.00585938,  0.        ,  0.00716146,\n",
       "         0.        ,  0.        ],\n",
       "       [ 0.        ,  0.01171875,  0.0234375 , -0.03385417,  0.02864583,\n",
       "         0.01171875,  0.        ],\n",
       "       [ 0.00585938,  0.0234375 , -0.07421875, -0.1875    , -0.07421875,\n",
       "         0.01822917,  0.00455729],\n",
       "       [ 0.        , -0.02864583, -0.15625   ,  0.828125  , -0.15625   ,\n",
       "        -0.02864583,  0.        ],\n",
       "       [ 0.00455729,  0.01822917, -0.07421875, -0.1875    , -0.07421875,\n",
       "         0.0234375 ,  0.00585938],\n",
       "       [ 0.        ,  0.01171875,  0.02864583, -0.03385417,  0.0234375 ,\n",
       "         0.01171875,  0.        ],\n",
       "       [ 0.        ,  0.        ,  0.00716146,  0.        ,  0.00585938,\n",
       "         0.        ,  0.        ]])"
      ]
     },
     "execution_count": 57,
     "metadata": {},
     "output_type": "execute_result"
    }
   ],
   "source": [
    "wnew.g[0].matrix"
   ]
  },
  {
   "cell_type": "code",
   "execution_count": 29,
   "id": "6f7a5165-98c3-4f4e-b1dd-275452bd1f9f",
   "metadata": {},
   "outputs": [
    {
     "data": {
      "text/plain": [
       "array([ 0, -1])"
      ]
     },
     "execution_count": 29,
     "metadata": {},
     "output_type": "execute_result"
    }
   ],
   "source": [
    "wnew.g[0].offset"
   ]
  },
  {
   "cell_type": "code",
   "execution_count": 40,
   "id": "3c997c23-926b-46ba-937f-63ffe5d63fb3",
   "metadata": {},
   "outputs": [
    {
     "ename": "IndexError",
     "evalue": "list index out of range",
     "output_type": "error",
     "traceback": [
      "\u001B[1;31m---------------------------------------------------------------------------\u001B[0m",
      "\u001B[1;31mIndexError\u001B[0m                                Traceback (most recent call last)",
      "Cell \u001B[1;32mIn[40], line 1\u001B[0m\n\u001B[1;32m----> 1\u001B[0m checkContent(contents[\u001B[38;5;241m4\u001B[39m])\n",
      "\u001B[1;31mIndexError\u001B[0m: list index out of range"
     ]
    }
   ],
   "source": [
    "checkContent(contents[4])"
   ]
  },
  {
   "cell_type": "code",
   "execution_count": null,
   "id": "b71dd8e1-fcfc-42b7-b700-8fd944684673",
   "metadata": {},
   "outputs": [],
   "source": []
  }
 ],
 "metadata": {
  "kernelspec": {
   "display_name": "Python 3 (ipykernel)",
   "language": "python",
   "name": "python3"
  },
  "language_info": {
   "codemirror_mode": {
    "name": "ipython",
    "version": 3
   },
   "file_extension": ".py",
   "mimetype": "text/x-python",
   "name": "python",
   "nbconvert_exporter": "python",
   "pygments_lexer": "ipython3",
   "version": "3.13.5"
  }
 },
 "nbformat": 4,
 "nbformat_minor": 5
}
