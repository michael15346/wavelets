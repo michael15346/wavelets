{
 "cells": [
  {
   "cell_type": "markdown",
   "id": "fbb759cc-fcb0-4d66-bf0e-5426ea09da59",
   "metadata": {},
   "source": [
    "### Добавление, проверка и извлечение всплесков из JSON"
   ]
  },
  {
   "cell_type": "code",
   "id": "224e8362-6da3-44b4-a789-01c108f6441e",
   "metadata": {
    "ExecuteTime": {
     "end_time": "2025-08-22T07:36:46.088447Z",
     "start_time": "2025-08-22T07:36:46.082285Z"
    }
   },
   "source": [
    "import numpy as np\n",
    "\n",
    "from classic.wave import wavedec, waverec, convolve\n",
    "from metrics import psnr\n",
    "from offset_tensor import OffsetTensor\n",
    "from periodic.wave import wavedec_period, waverec_period\n",
    "from wavelet import Wavelet\n",
    "\n",
    "from utils import OffsetMatrixConjugate"
   ],
   "outputs": [],
   "execution_count": 4
  },
  {
   "cell_type": "markdown",
   "id": "e2cb11ec-2ca8-4507-8811-1e7ffe302a59",
   "metadata": {},
   "source": [
    "##### Код"
   ]
  },
  {
   "cell_type": "code",
   "execution_count": 4,
   "id": "473673b5-7ccd-46a5-b1f2-a61143cd060a",
   "metadata": {},
   "outputs": [],
   "source": ""
  },
  {
   "cell_type": "code",
   "id": "2ccfaf35-d70a-41d7-91e5-761ae1a47e8f",
   "metadata": {
    "ExecuteTime": {
     "end_time": "2025-08-22T07:36:49.262568Z",
     "start_time": "2025-08-22T07:36:49.128700Z"
    }
   },
   "source": "",
   "outputs": [
    {
     "ename": "NameError",
     "evalue": "name 'OffsetMatrix' is not defined",
     "output_type": "error",
     "traceback": [
      "\u001B[31m---------------------------------------------------------------------------\u001B[39m",
      "\u001B[31mNameError\u001B[39m                                 Traceback (most recent call last)",
      "\u001B[36mCell\u001B[39m\u001B[36m \u001B[39m\u001B[32mIn[5]\u001B[39m\u001B[32m, line 56\u001B[39m\n\u001B[32m     53\u001B[39m             matrix[i,j] = np.prod(np.power(ai, bj))\n\u001B[32m     54\u001B[39m     \u001B[38;5;28;01mreturn\u001B[39;00m matrix\n\u001B[32m---> \u001B[39m\u001B[32m56\u001B[39m \u001B[38;5;28;01mdef\u001B[39;00m\u001B[38;5;250m \u001B[39m\u001B[34mVM\u001B[39m(wmask: OffsetMatrix, tolerance=\u001B[32m1e-6\u001B[39m, max_vm=\u001B[38;5;28;01mNone\u001B[39;00m):\n\u001B[32m     57\u001B[39m \u001B[38;5;250m    \u001B[39m\u001B[33;03m\"\"\"\u001B[39;00m\n\u001B[32m     58\u001B[39m \u001B[33;03m    Calculate the order of vanishing moments a wavelet filter.\u001B[39;00m\n\u001B[32m     59\u001B[39m \n\u001B[32m   (...)\u001B[39m\u001B[32m     66\u001B[39m \u001B[33;03m        int: Order of vanishing moments.\u001B[39;00m\n\u001B[32m     67\u001B[39m \u001B[33;03m    \"\"\"\u001B[39;00m\n\u001B[32m     68\u001B[39m     (coefs, coords) = OffsetMatrix2CoefCoords(wmask)\n",
      "\u001B[31mNameError\u001B[39m: name 'OffsetMatrix' is not defined"
     ]
    }
   ],
   "execution_count": 5
  },
  {
   "cell_type": "markdown",
   "id": "574ecc3f-b2e2-4fec-8994-d26348ec11f6",
   "metadata": {},
   "source": [
    "##### Проверка работы"
   ]
  },
  {
   "cell_type": "code",
   "id": "2cc559b0-c45d-480c-ae1c-18ab6a610344",
   "metadata": {
    "ExecuteTime": {
     "end_time": "2025-08-22T07:36:33.281276Z",
     "start_time": "2025-08-22T07:36:33.264381Z"
    }
   },
   "source": [
    "import json\n",
    "with open(\"WaveDB.json\", 'r') as j:\n",
    "     contents = json.loads(j.read())"
   ],
   "outputs": [],
   "execution_count": 1
  },
  {
   "cell_type": "code",
   "id": "5bf21946-eabd-45a0-b9e4-f44c2a89dfc8",
   "metadata": {
    "ExecuteTime": {
     "end_time": "2025-08-22T07:36:35.683558Z",
     "start_time": "2025-08-22T07:36:35.678222Z"
    }
   },
   "source": [
    "len(contents)"
   ],
   "outputs": [
    {
     "data": {
      "text/plain": [
       "12"
      ]
     },
     "execution_count": 2,
     "metadata": {},
     "output_type": "execute_result"
    }
   ],
   "execution_count": 2
  },
  {
   "cell_type": "code",
   "execution_count": 3,
   "id": "3c7be3b0-58a3-4ab1-b5f1-ad40e95d88c0",
   "metadata": {},
   "outputs": [
    {
     "name": "stdout",
     "output_type": "stream",
     "text": [
      "QuincunxRotation\n",
      "Frame-like Dual Wavelet System\n",
      "True\n",
      "[2, 1, 1]\n",
      "1.09619\n",
      "[1]\n",
      "-inf\n",
      "QuincunxRotation\n",
      "Frame-like Dual Wavelet System in L2\n",
      "True\n",
      "[2, 1, 1]\n",
      "1.09619\n",
      "[1, 2, 1]\n",
      "1.09619\n",
      "QuincunxRotation\n",
      "Frame-like Dual Wavelet System\n",
      "True\n",
      "[2, 1, 1]\n",
      "1.09619\n",
      "[8, 2, 2, -1, -1, -1, -1]\n",
      "-0.932076\n",
      "QuincunxRotation\n",
      "Frame-like Dual Wavelet System\n",
      "True\n",
      "[4, 1, 1, 1, 1]\n",
      "1.57764\n",
      "[1]\n",
      "-inf\n",
      "QuincunxRotation\n",
      "Frame-like Dual Wavelet System in L2\n",
      "True\n",
      "[4, 1, 1, 1, 1]\n",
      "1.57764\n",
      "[2, 1, 1]\n",
      "1.09619\n",
      "QuincunxRotation\n",
      "Dual Wavelet Frame\n",
      "True\n",
      "[4, 1, 1, 1, 1]\n",
      "1.57764\n",
      "[1272, 288, 288, 240, 240, -114, -114, -114, -114, -52, -52, -44, -44, -36, -36, -36, -36, -28, -28, -44, -44, 18, 18, 18, 18, 9, 9, 9, 9, 7, 7, 11, 11]\n",
      "0.300855\n"
     ]
    }
   ],
   "source": [
    "for content in contents:\n",
    "    print(content['DilationMatrixInfo'])\n",
    "    print(content['WaveletSystemType'])\n",
    "    print(content['InterpolatoryMask'])\n",
    "    print(content['Mask']['Coeffs'])\n",
    "    print(content['Mask']['SobolevSmoothness'])\n",
    "    print(content['DualMask']['Coeffs'])\n",
    "    print(content['DualMask']['SobolevSmoothness'])"
   ]
  },
  {
   "cell_type": "code",
   "execution_count": 44,
   "id": "7fe46a3f-5dbd-47f8-973f-f82071b030b1",
   "metadata": {},
   "outputs": [
    {
     "data": {
      "text/plain": [
       "[[1, -1], [1, 1]]"
      ]
     },
     "execution_count": 44,
     "metadata": {},
     "output_type": "execute_result"
    }
   ],
   "source": [
    "content['DilationMatrix']"
   ]
  },
  {
   "cell_type": "code",
   "execution_count": 56,
   "id": "4a379476-8635-4d57-8c27-b9b6ef7f3cb2",
   "metadata": {},
   "outputs": [
    {
     "data": {
      "text/plain": [
       "Wavelet(h=<offset_matrix.OffsetMatrix object at 0x0000020E6CC4A210>, g=(<offset_matrix.OffsetMatrix object at 0x0000020E6CC4A450>,), hdual=<offset_matrix.OffsetMatrix object at 0x0000020E6CC4A330>, gdual=(<offset_matrix.OffsetMatrix object at 0x0000020E6CC4A570>,), M=array([[ 1, -1],\n",
       "       [ 1,  1]]), m=np.float64(2.0))"
      ]
     },
     "execution_count": 56,
     "metadata": {},
     "output_type": "execute_result"
    }
   ],
   "source": [
    "wnew = createWaveletFromContent(contents[5])\n",
    "wnew"
   ]
  },
  {
   "cell_type": "code",
   "execution_count": 57,
   "id": "668737e5-d794-45cd-9a04-5f04093dffb6",
   "metadata": {},
   "outputs": [
    {
     "data": {
      "text/plain": [
       "array([[ 0.        ,  0.        ,  0.00585938,  0.        ,  0.00716146,\n",
       "         0.        ,  0.        ],\n",
       "       [ 0.        ,  0.01171875,  0.0234375 , -0.03385417,  0.02864583,\n",
       "         0.01171875,  0.        ],\n",
       "       [ 0.00585938,  0.0234375 , -0.07421875, -0.1875    , -0.07421875,\n",
       "         0.01822917,  0.00455729],\n",
       "       [ 0.        , -0.02864583, -0.15625   ,  0.828125  , -0.15625   ,\n",
       "        -0.02864583,  0.        ],\n",
       "       [ 0.00455729,  0.01822917, -0.07421875, -0.1875    , -0.07421875,\n",
       "         0.0234375 ,  0.00585938],\n",
       "       [ 0.        ,  0.01171875,  0.02864583, -0.03385417,  0.0234375 ,\n",
       "         0.01171875,  0.        ],\n",
       "       [ 0.        ,  0.        ,  0.00716146,  0.        ,  0.00585938,\n",
       "         0.        ,  0.        ]])"
      ]
     },
     "execution_count": 57,
     "metadata": {},
     "output_type": "execute_result"
    }
   ],
   "source": [
    "wnew.g[0].matrix"
   ]
  },
  {
   "cell_type": "code",
   "execution_count": 29,
   "id": "6f7a5165-98c3-4f4e-b1dd-275452bd1f9f",
   "metadata": {},
   "outputs": [
    {
     "data": {
      "text/plain": [
       "array([ 0, -1])"
      ]
     },
     "execution_count": 29,
     "metadata": {},
     "output_type": "execute_result"
    }
   ],
   "source": [
    "wnew.g[0].offset"
   ]
  },
  {
   "cell_type": "code",
   "execution_count": 40,
   "id": "3c997c23-926b-46ba-937f-63ffe5d63fb3",
   "metadata": {},
   "outputs": [
    {
     "ename": "IndexError",
     "evalue": "list index out of range",
     "output_type": "error",
     "traceback": [
      "\u001B[1;31m---------------------------------------------------------------------------\u001B[0m",
      "\u001B[1;31mIndexError\u001B[0m                                Traceback (most recent call last)",
      "Cell \u001B[1;32mIn[40], line 1\u001B[0m\n\u001B[1;32m----> 1\u001B[0m checkContent(contents[\u001B[38;5;241m4\u001B[39m])\n",
      "\u001B[1;31mIndexError\u001B[0m: list index out of range"
     ]
    }
   ],
   "source": [
    "checkContent(contents[4])"
   ]
  },
  {
   "cell_type": "code",
   "execution_count": null,
   "id": "b71dd8e1-fcfc-42b7-b700-8fd944684673",
   "metadata": {},
   "outputs": [],
   "source": []
  }
 ],
 "metadata": {
  "kernelspec": {
   "display_name": "Python 3 (ipykernel)",
   "language": "python",
   "name": "python3"
  },
  "language_info": {
   "codemirror_mode": {
    "name": "ipython",
    "version": 3
   },
   "file_extension": ".py",
   "mimetype": "text/x-python",
   "name": "python",
   "nbconvert_exporter": "python",
   "pygments_lexer": "ipython3",
   "version": "3.13.5"
  }
 },
 "nbformat": 4,
 "nbformat_minor": 5
}
