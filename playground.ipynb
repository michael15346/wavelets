{
 "cells": [
  {
   "cell_type": "code",
   "id": "initial_id",
   "metadata": {
    "collapsed": true,
    "ExecuteTime": {
     "end_time": "2025-08-19T15:26:25.190055Z",
     "start_time": "2025-08-19T15:26:24.681172Z"
    }
   },
   "source": [
    "from offset_matrix import OffsetTensor\n",
    "import imageio.v3 as iio\n",
    "import numpy as np\n",
    "import itertools\n",
    "import fast1dkmeans\n",
    "\n",
    "from wavelet import Wavelet\n",
    "from periodic.wave import wavedec_period"
   ],
   "outputs": [],
   "execution_count": 2
  },
  {
   "metadata": {
    "ExecuteTime": {
     "end_time": "2025-08-14T15:02:13.292089Z",
     "start_time": "2025-08-14T15:02:13.289565Z"
    }
   },
   "cell_type": "code",
   "source": "",
   "id": "34c82dd898f34738",
   "outputs": [],
   "execution_count": null
  },
  {
   "metadata": {
    "ExecuteTime": {
     "end_time": "2025-08-19T15:26:31.428863Z",
     "start_time": "2025-08-19T15:26:29.809421Z"
    }
   },
   "cell_type": "code",
   "source": [
    "#data = OffsetTensor(iio.imread('test/lenna.bmp'), np.array([0, 0]))\n",
    "data = OffsetTensor(28. * np.array([[1, 2, 3, 4, 5, 6], [2, 3, 4, 5, 6, 7], [3, 4, 5, 6, 7, 8], [4, 5, 6, 7, 8, 9], [5, 6, 7, 8, 9, 10], [6, 7, 8, 9, 10, 11]]), np.array([0,0]))\n",
    "\n",
    "M = np.array([[\n",
    "\n",
    "\n",
    "1, -1], [1,1]])\n",
    "\n",
    "h = OffsetTensor(np.array([[0.25, 0.5, 0.25]]), np.array([0, -1]))\n",
    "g = (OffsetTensor(np.array([[-0.125, -0.25, 0.75, -0.25, -0.125]]), np.array([0, -1])),)\n",
    "hdual = OffsetTensor(np.array([[-0.125, 0.25, 0.75, 0.25, -0.125]]), np.array([0, -2]))\n",
    "gdual = (OffsetTensor(np.array([[-0.25, 0.5, -0.25]]), np.array([0, 0])),)\n",
    "\n",
    "\n",
    "\n",
    "w = Wavelet(h, g, hdual, gdual, M, np.abs(np.linalg.det(M)))\n",
    "\n",
    "#ci_ = wavedec(data, 1, w)\n",
    "ci = wavedec_period(data, w, 10)\n",
    "#clamp(ci)\n"
   ],
   "id": "746c2acae57d7153",
   "outputs": [],
   "execution_count": 3
  },
  {
   "metadata": {
    "ExecuteTime": {
     "end_time": "2025-08-19T15:26:41.457107Z",
     "start_time": "2025-08-19T15:26:41.431299Z"
    }
   },
   "cell_type": "code",
   "source": [
    "n_cluster = 15\n",
    "flat_coef = np.array(list(ci[0]) + list(itertools.chain(*itertools.chain(*ci[1:]))))\n",
    "clusters = fast1dkmeans.cluster(flat_coef, n_cluster, method='binary-search-interpolation')"
   ],
   "id": "d59a929000243750",
   "outputs": [],
   "execution_count": 5
  },
  {
   "metadata": {
    "ExecuteTime": {
     "end_time": "2025-08-19T15:26:42.376261Z",
     "start_time": "2025-08-19T15:26:42.373708Z"
    }
   },
   "cell_type": "code",
   "source": "labels, inverse = np.unique(clusters, return_inverse=True)",
   "id": "2bb39acdcb638b48",
   "outputs": [],
   "execution_count": 6
  },
  {
   "metadata": {
    "ExecuteTime": {
     "end_time": "2025-08-19T15:26:42.940869Z",
     "start_time": "2025-08-19T15:26:42.938182Z"
    }
   },
   "cell_type": "code",
   "source": "sums = np.bincount(inverse, weights=flat_coef)",
   "id": "c490f31870d9bd4",
   "outputs": [],
   "execution_count": 7
  },
  {
   "metadata": {
    "ExecuteTime": {
     "end_time": "2025-08-19T15:26:43.497359Z",
     "start_time": "2025-08-19T15:26:43.495008Z"
    }
   },
   "cell_type": "code",
   "source": "counts = np.bincount(inverse)",
   "id": "abefeff276a9d9bd",
   "outputs": [],
   "execution_count": 8
  },
  {
   "metadata": {
    "ExecuteTime": {
     "end_time": "2025-08-19T15:26:43.906591Z",
     "start_time": "2025-08-19T15:26:43.903845Z"
    }
   },
   "cell_type": "code",
   "source": "centroids = sums / counts",
   "id": "dba34fdfc42b3f7e",
   "outputs": [],
   "execution_count": 9
  },
  {
   "metadata": {
    "ExecuteTime": {
     "end_time": "2025-08-19T15:26:44.299432Z",
     "start_time": "2025-08-19T15:26:44.294426Z"
    }
   },
   "cell_type": "code",
   "source": "clusters",
   "id": "483c11cbc7cf92af",
   "outputs": [
    {
     "data": {
      "text/plain": [
       "array([14,  6,  7,  5,  4,  5,  5,  7, 10,  6,  4,  9,  2,  2,  4, 13,  7,\n",
       "        5, 13,  7, 11,  2,  0, 11,  2, 11, 11, 11, 11, 11,  1,  1,  1,  1,\n",
       "        4,  4,  4,  4,  4,  8,  9, 12,  8,  9, 12,  8,  9, 12,  3,  5,  8,\n",
       "        3,  5,  8,  3,  5,  8,  3,  5,  8,  3,  5,  8,  3,  5,  8,  6,  6,\n",
       "       10,  6,  6, 10,  6,  6, 10,  6,  6,  0,  6,  6,  0,  6,  6,  0,  6,\n",
       "        6, 10,  6,  6, 10,  6,  6, 10,  6,  6,  0,  6,  6,  0,  6,  6,  0,\n",
       "        6,  6, 10,  6,  6, 10,  6,  6, 10,  6,  6,  0,  6,  6,  0,  6,  6,\n",
       "        0], dtype=int32)"
      ]
     },
     "execution_count": 10,
     "metadata": {},
     "output_type": "execute_result"
    }
   ],
   "execution_count": 10
  },
  {
   "metadata": {
    "ExecuteTime": {
     "end_time": "2025-08-19T15:26:45.811165Z",
     "start_time": "2025-08-19T15:26:45.808776Z"
    }
   },
   "cell_type": "code",
   "source": "flat_restored = centroids[clusters]",
   "id": "6e502188f8c6a3a2",
   "outputs": [],
   "execution_count": 11
  },
  {
   "metadata": {
    "ExecuteTime": {
     "end_time": "2025-08-19T15:26:46.223490Z",
     "start_time": "2025-08-19T15:26:46.220864Z"
    }
   },
   "cell_type": "code",
   "source": [
    "restored = list()\n",
    "idx = 0\n",
    "restored.append(flat_restored[:ci[0].size])\n",
    "idx = ci[0].size"
   ],
   "id": "5e5297336711444f",
   "outputs": [],
   "execution_count": 12
  },
  {
   "metadata": {
    "ExecuteTime": {
     "end_time": "2025-08-19T15:26:46.909528Z",
     "start_time": "2025-08-19T15:26:46.907065Z"
    }
   },
   "cell_type": "code",
   "source": [
    "for c in ci[1:]:\n",
    "    restored.append([])\n",
    "    for cc in c:\n",
    "        restored[-1].append(flat_restored[idx:idx+cc.size])\n",
    "        idx += cc.size"
   ],
   "id": "9a7ae4f70413c1d1",
   "outputs": [],
   "execution_count": 13
  },
  {
   "metadata": {
    "ExecuteTime": {
     "end_time": "2025-08-19T15:26:48.086152Z",
     "start_time": "2025-08-19T15:26:48.081241Z"
    }
   },
   "cell_type": "code",
   "source": "restored",
   "id": "f8f2249ccc6ae35f",
   "outputs": [
    {
     "data": {
      "text/plain": [
       "[array([162.315207]),\n",
       " [array([0.23522691])],\n",
       " [array([10.42569923])],\n",
       " [array([ -4.796521  , -10.69530487])],\n",
       " [array([-4.796521, -4.796521])],\n",
       " [array([10.42569923, 41.72211914,  0.23522691])],\n",
       " [array([-10.69530487,  35.86816406, -23.33789062, -23.33789062,\n",
       "         -10.69530487])],\n",
       " [array([ 82.6875    ,  10.42569923,  -4.796521  ,  82.6875    ,\n",
       "          10.42569923,  47.0625    , -23.33789062, -41.934375  ,\n",
       "          47.0625    , -23.33789062])],\n",
       " [array([ 47.0625    ,  47.0625    ,  47.0625    ,  47.0625    ,\n",
       "          47.0625    , -36.75      , -36.75      , -36.75      ,\n",
       "         -36.75      , -10.69530487, -10.69530487, -10.69530487,\n",
       "         -10.69530487, -10.69530487])],\n",
       " [array([ 22.75      ,  35.86816406,  63.        ,  22.75      ,\n",
       "          35.86816406,  63.        ,  22.75      ,  35.86816406,\n",
       "          63.        , -15.75      ,  -4.796521  ,  22.75      ,\n",
       "         -15.75      ,  -4.796521  ,  22.75      , -15.75      ,\n",
       "          -4.796521  ,  22.75      , -15.75      ,  -4.796521  ,\n",
       "          22.75      , -15.75      ,  -4.796521  ,  22.75      ,\n",
       "         -15.75      ,  -4.796521  ,  22.75      ])],\n",
       " [array([  0.23522691,   0.23522691,  41.72211914,   0.23522691,\n",
       "           0.23522691,  41.72211914,   0.23522691,   0.23522691,\n",
       "          41.72211914,   0.23522691,   0.23522691, -41.934375  ,\n",
       "           0.23522691,   0.23522691, -41.934375  ,   0.23522691,\n",
       "           0.23522691, -41.934375  ,   0.23522691,   0.23522691,\n",
       "          41.72211914,   0.23522691,   0.23522691,  41.72211914,\n",
       "           0.23522691,   0.23522691,  41.72211914,   0.23522691,\n",
       "           0.23522691, -41.934375  ,   0.23522691,   0.23522691,\n",
       "         -41.934375  ,   0.23522691,   0.23522691, -41.934375  ,\n",
       "           0.23522691,   0.23522691,  41.72211914,   0.23522691,\n",
       "           0.23522691,  41.72211914,   0.23522691,   0.23522691,\n",
       "          41.72211914,   0.23522691,   0.23522691, -41.934375  ,\n",
       "           0.23522691,   0.23522691, -41.934375  ,   0.23522691,\n",
       "           0.23522691, -41.934375  ])]]"
      ]
     },
     "execution_count": 14,
     "metadata": {},
     "output_type": "execute_result"
    }
   ],
   "execution_count": 14
  },
  {
   "metadata": {},
   "cell_type": "code",
   "outputs": [],
   "execution_count": null,
   "source": "",
   "id": "2631a99133a8e8b6"
  }
 ],
 "metadata": {
  "kernelspec": {
   "display_name": "Python 3",
   "language": "python",
   "name": "python3"
  },
  "language_info": {
   "codemirror_mode": {
    "name": "ipython",
    "version": 2
   },
   "file_extension": ".py",
   "mimetype": "text/x-python",
   "name": "python",
   "nbconvert_exporter": "python",
   "pygments_lexer": "ipython2",
   "version": "2.7.6"
  }
 },
 "nbformat": 4,
 "nbformat_minor": 5
}
