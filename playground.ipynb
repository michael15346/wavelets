{
 "cells": [
  {
   "cell_type": "code",
   "id": "initial_id",
   "metadata": {
    "collapsed": true,
    "ExecuteTime": {
     "end_time": "2025-08-14T15:02:12.562173Z",
     "start_time": "2025-08-14T15:02:03.957889Z"
    }
   },
   "source": [
    "from offset_matrix import OffsetTensor\n",
    "import imageio.v3 as iio\n",
    "import numpy as np\n",
    "import itertools\n",
    "import fast1dkmeans\n",
    "\n",
    "from wavelet import Wavelet\n",
    "from periodic.wave import wavedec_period"
   ],
   "outputs": [],
   "execution_count": 2
  },
  {
   "metadata": {
    "ExecuteTime": {
     "end_time": "2025-08-14T15:02:13.292089Z",
     "start_time": "2025-08-14T15:02:13.289565Z"
    }
   },
   "cell_type": "code",
   "source": "",
   "id": "34c82dd898f34738",
   "outputs": [],
   "execution_count": null
  },
  {
   "metadata": {
    "ExecuteTime": {
     "end_time": "2025-08-14T15:02:14.581738Z",
     "start_time": "2025-08-14T15:02:13.713572Z"
    }
   },
   "cell_type": "code",
   "source": [
    "data = OffsetTensor(iio.imread('test/lenna.bmp'), np.array([0, 0]))\n",
    "#data = OffsetMatrix(28. * np.array([[1, 2, 3, 4, 5, 6], [2, 3, 4, 5, 6, 7], [3, 4, 5, 6, 7, 8], [4, 5, 6, 7, 8, 9], [5, 6, 7, 8, 9, 10], [6, 7, 8, 9, 10, 11]]), np.array([0,0]))\n",
    "\n",
    "M = np.array([[\n",
    "\n",
    "\n",
    "1, -1], [1,1]])\n",
    "\n",
    "h = OffsetTensor(np.array([[0.25, 0.5, 0.25]]), np.array([0, -1]))\n",
    "g = (OffsetTensor(np.array([[-0.125, -0.25, 0.75, -0.25, -0.125]]), np.array([0, -1])),)\n",
    "hdual = OffsetTensor(np.array([[-0.125, 0.25, 0.75, 0.25, -0.125]]), np.array([0, -2]))\n",
    "gdual = (OffsetTensor(np.array([[-0.25, 0.5, -0.25]]), np.array([0, 0])),)\n",
    "\n",
    "\n",
    "\n",
    "w = Wavelet(h, g, hdual, gdual, M, np.abs(np.linalg.det(M)))\n",
    "\n",
    "#ci_ = wavedec(data, 1, w)\n",
    "ci = wavedec_period(data, w, 2)\n",
    "#clamp(ci)\n"
   ],
   "id": "746c2acae57d7153",
   "outputs": [],
   "execution_count": 3
  },
  {
   "metadata": {
    "ExecuteTime": {
     "end_time": "2025-08-14T15:02:35.066975Z",
     "start_time": "2025-08-14T15:02:15.812600Z"
    }
   },
   "cell_type": "code",
   "source": [
    "n_cluster = 256\n",
    "flat_coef = np.array(list(ci[0]) + list(itertools.chain(*itertools.chain(*ci[1:]))))\n",
    "clusters = fast1dkmeans.cluster(flat_coef, n_cluster, method='binary-search-interpolation')"
   ],
   "id": "d59a929000243750",
   "outputs": [],
   "execution_count": 4
  },
  {
   "metadata": {
    "ExecuteTime": {
     "end_time": "2025-08-14T15:02:36.913789Z",
     "start_time": "2025-08-14T15:02:36.898937Z"
    }
   },
   "cell_type": "code",
   "source": "labels, inverse = np.unique(clusters, return_inverse=True)",
   "id": "2bb39acdcb638b48",
   "outputs": [],
   "execution_count": 5
  },
  {
   "metadata": {
    "ExecuteTime": {
     "end_time": "2025-08-14T15:03:01.527545Z",
     "start_time": "2025-08-14T15:03:01.524108Z"
    }
   },
   "cell_type": "code",
   "source": "sums = np.bincount(inverse, weights=flat_coef)",
   "id": "c490f31870d9bd4",
   "outputs": [],
   "execution_count": 8
  },
  {
   "metadata": {
    "ExecuteTime": {
     "end_time": "2025-08-14T15:03:14.905387Z",
     "start_time": "2025-08-14T15:03:14.902400Z"
    }
   },
   "cell_type": "code",
   "source": "counts = np.bincount(inverse)",
   "id": "abefeff276a9d9bd",
   "outputs": [],
   "execution_count": 10
  },
  {
   "metadata": {
    "ExecuteTime": {
     "end_time": "2025-08-14T15:03:51.309416Z",
     "start_time": "2025-08-14T15:03:51.306685Z"
    }
   },
   "cell_type": "code",
   "source": "centroids = sums / counts",
   "id": "dba34fdfc42b3f7e",
   "outputs": [],
   "execution_count": 13
  },
  {
   "metadata": {
    "ExecuteTime": {
     "end_time": "2025-08-14T15:05:09.601768Z",
     "start_time": "2025-08-14T15:05:09.598464Z"
    }
   },
   "cell_type": "code",
   "source": "clusters",
   "id": "483c11cbc7cf92af",
   "outputs": [
    {
     "data": {
      "text/plain": [
       "array([185, 220, 201, ...,  36,  32,   4], shape=(262144,), dtype=int32)"
      ]
     },
     "execution_count": 14,
     "metadata": {},
     "output_type": "execute_result"
    }
   ],
   "execution_count": 14
  },
  {
   "metadata": {
    "ExecuteTime": {
     "end_time": "2025-08-14T15:11:20.275137Z",
     "start_time": "2025-08-14T15:11:20.271723Z"
    }
   },
   "cell_type": "code",
   "source": "flat_restored = centroids[clusters]",
   "id": "6e502188f8c6a3a2",
   "outputs": [],
   "execution_count": 16
  },
  {
   "metadata": {
    "ExecuteTime": {
     "end_time": "2025-08-14T15:13:45.289571Z",
     "start_time": "2025-08-14T15:13:45.286908Z"
    }
   },
   "cell_type": "code",
   "source": [
    "restored = list()\n",
    "idx = 0\n",
    "restored.append(flat_restored[:ci[0].size])\n",
    "idx = ci[0].size"
   ],
   "id": "5e5297336711444f",
   "outputs": [],
   "execution_count": 23
  },
  {
   "metadata": {
    "ExecuteTime": {
     "end_time": "2025-08-14T15:13:45.673341Z",
     "start_time": "2025-08-14T15:13:45.670068Z"
    }
   },
   "cell_type": "code",
   "source": [
    "for c in ci[1:]:\n",
    "    restored.append([])\n",
    "    for cc in c:\n",
    "        restored[-1].append(flat_restored[idx:idx+cc.size])\n",
    "        idx += cc.size"
   ],
   "id": "9a7ae4f70413c1d1",
   "outputs": [],
   "execution_count": 24
  },
  {
   "metadata": {
    "ExecuteTime": {
     "end_time": "2025-08-14T15:13:46.278857Z",
     "start_time": "2025-08-14T15:13:46.274354Z"
    }
   },
   "cell_type": "code",
   "source": "restored",
   "id": "f8f2249ccc6ae35f",
   "outputs": [
    {
     "data": {
      "text/plain": [
       "[array([190.28457084, 217.98145196, 203.63271467, ..., 150.41427239,\n",
       "        166.34791368, 188.51964286], shape=(65536,)),\n",
       " [array([-42.34375   , -16.14714404, -36.18005952, ...,  -2.28221264,\n",
       "          -0.99847816,   9.07416667], shape=(65536,))],\n",
       " [array([-9.98478157e-01, -9.98478157e-01, -1.77375412e-06, ...,\n",
       "         -1.77375412e-06, -9.98478157e-01, -2.56939655e+01], shape=(131072,))]]"
      ]
     },
     "execution_count": 25,
     "metadata": {},
     "output_type": "execute_result"
    }
   ],
   "execution_count": 25
  },
  {
   "metadata": {},
   "cell_type": "code",
   "outputs": [],
   "execution_count": null,
   "source": "",
   "id": "2631a99133a8e8b6"
  }
 ],
 "metadata": {
  "kernelspec": {
   "display_name": "Python 3",
   "language": "python",
   "name": "python3"
  },
  "language_info": {
   "codemirror_mode": {
    "name": "ipython",
    "version": 2
   },
   "file_extension": ".py",
   "mimetype": "text/x-python",
   "name": "python",
   "nbconvert_exporter": "python",
   "pygments_lexer": "ipython2",
   "version": "2.7.6"
  }
 },
 "nbformat": 4,
 "nbformat_minor": 5
}
