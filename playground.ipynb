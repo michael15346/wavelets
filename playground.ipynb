{
 "cells": [
  {
   "cell_type": "code",
   "id": "initial_id",
   "metadata": {
    "collapsed": true,
    "ExecuteTime": {
     "end_time": "2025-08-22T05:55:49.476396Z",
     "start_time": "2025-08-22T05:55:49.472082Z"
    }
   },
   "source": [
    "from offset_tensor import OffsetTensor\n",
    "import imageio.v3 as iio\n",
    "import numpy as np\n",
    "import itertools\n",
    "import fast1dkmeans\n",
    "\n",
    "from wavelet import Wavelet\n",
    "from periodic.wave import wavedec_period"
   ],
   "outputs": [],
   "execution_count": 2
  },
  {
   "metadata": {
    "ExecuteTime": {
     "end_time": "2025-08-14T15:02:13.292089Z",
     "start_time": "2025-08-14T15:02:13.289565Z"
    }
   },
   "cell_type": "code",
   "source": "",
   "id": "34c82dd898f34738",
   "outputs": [],
   "execution_count": null
  },
  {
   "metadata": {
    "ExecuteTime": {
     "end_time": "2025-08-22T05:56:14.787739Z",
     "start_time": "2025-08-22T05:56:14.779163Z"
    }
   },
   "cell_type": "code",
   "source": [
    "#data = OffsetTensor(iio.imread('test/lenna.bmp'), np.array([0, 0]))\n",
    "data = OffsetTensor(28. * np.array([[1, 2, 3, 4, 5, 6], [2, 3, 4, 5, 6, 7], [3, 4, 5, 6, 7, 8], [4, 5, 6, 7, 8, 9], [5, 6, 7, 8, 9, 10], [6, 7, 8, 9, 10, 11]]), np.array([0,0]))\n",
    "\n",
    "M = np.array([[\n",
    "\n",
    "\n",
    "1, -1], [1,1]])\n",
    "\n",
    "h = OffsetTensor(np.array([[0.25, 0.5, 0.25]]), np.array([0, -1]))\n",
    "g = (OffsetTensor(np.array([[-0.125, -0.25, 0.75, -0.25, -0.125]]), np.array([0, -1])),)\n",
    "hdual = OffsetTensor(np.array([[-0.125, 0.25, 0.75, 0.25, -0.125]]), np.array([0, -2]))\n",
    "gdual = (OffsetTensor(np.array([[-0.25, 0.5, -0.25]]), np.array([0, 0])),)\n",
    "\n",
    "\n",
    "\n",
    "w = Wavelet(h, g, hdual, gdual, M, np.abs(np.linalg.det(M)))\n",
    "\n",
    "#ci_ = wavedec(data, 1, w)\n",
    "ci = wavedec_period(data, w, 3)\n",
    "#clamp(ci)\n"
   ],
   "id": "746c2acae57d7153",
   "outputs": [],
   "execution_count": 6
  },
  {
   "metadata": {
    "ExecuteTime": {
     "end_time": "2025-08-22T05:56:52.750469Z",
     "start_time": "2025-08-22T05:56:52.746730Z"
    }
   },
   "cell_type": "code",
   "source": [
    "n_cluster = 256\n",
    "coef = ci\n",
    "flat_coef = np.array(list(coef[0]) + list(itertools.chain(*itertools.chain(*coef[1:]))))"
   ],
   "id": "d59a929000243750",
   "outputs": [],
   "execution_count": 8
  },
  {
   "metadata": {
    "ExecuteTime": {
     "end_time": "2025-08-22T05:59:51.710562Z",
     "start_time": "2025-08-22T05:59:51.704156Z"
    }
   },
   "cell_type": "code",
   "source": [
    "flat_coef = np.array(list(coef[0]) + list(itertools.chain(*itertools.chain(*coef[1:]))))\n",
    "n_min = np.min(flat_coef)\n",
    "n_max = np.max(flat_coef)\n",
    "quantized = np.clip(np.round((flat_coef - n_min) / n_max * (n_cluster - 1)),0, n_cluster - 1).astype(int)"
   ],
   "id": "2bb39acdcb638b48",
   "outputs": [],
   "execution_count": 13
  },
  {
   "metadata": {
    "ExecuteTime": {
     "end_time": "2025-08-22T06:07:07.580115Z",
     "start_time": "2025-08-22T06:07:07.576930Z"
    }
   },
   "cell_type": "code",
   "source": [
    "quantized\n",
    "flat_coef = np.array(list(coef[0]) + list(itertools.chain(*itertools.chain(*coef[1:]))))\n",
    "\n",
    "flat_restored = (quantized * (n_cluster - 1) / n_max) + n_min\n",
    "restored = list()\n",
    "idx = 0\n",
    "restored.append(flat_restored[:coef[0].size])\n",
    "idx = coef[0].size\n",
    "for c in coef[1:]:\n",
    "    restored.append([])\n",
    "    for cc in c:\n",
    "        restored[-1].append(flat_restored[idx:idx + cc.size])\n",
    "        idx += cc.size"
   ],
   "id": "c490f31870d9bd4",
   "outputs": [],
   "execution_count": 17
  },
  {
   "metadata": {
    "ExecuteTime": {
     "end_time": "2025-08-22T06:17:01.385163Z",
     "start_time": "2025-08-22T06:17:01.382947Z"
    }
   },
   "cell_type": "code",
   "source": "flat_restored = (quantized * n_max / (n_cluster - 1)) + n_min",
   "id": "abefeff276a9d9bd",
   "outputs": [],
   "execution_count": 25
  },
  {
   "metadata": {
    "ExecuteTime": {
     "end_time": "2025-08-22T06:17:02.005349Z",
     "start_time": "2025-08-22T06:17:02.000888Z"
    }
   },
   "cell_type": "code",
   "source": "flat_restored",
   "id": "dba34fdfc42b3f7e",
   "outputs": [
    {
     "data": {
      "text/plain": [
       "array([ 21.02745098, 160.58823529, 148.20784314, 131.3254902 ,\n",
       "       147.08235294, 245.        , 121.19607843, 103.18823529,\n",
       "       -20.61568627, -20.61568627, -17.23921569, -17.23921569,\n",
       "        -7.10980392,  -7.10980392,  45.78823529,  45.78823529,\n",
       "         8.64705882,   8.64705882,  33.40784314,   5.27058824,\n",
       "        -4.85882353,  -4.85882353,  18.77647059,  -8.23529412,\n",
       "        -4.85882353,  -4.85882353,  18.77647059,  -8.23529412,\n",
       "        36.78431373,  36.78431373,  61.54509804,  33.40784314,\n",
       "        -0.35686275,  -0.35686275,  42.41176471,  14.2745098 ,\n",
       "        -0.35686275,  -0.35686275, -42.        , -13.8627451 ,\n",
       "        -0.35686275,  -0.35686275,  42.41176471,  14.2745098 ,\n",
       "        -0.35686275,  -0.35686275, -42.        , -13.8627451 ,\n",
       "        -0.35686275,  -0.35686275,  42.41176471,  14.2745098 ,\n",
       "        -0.35686275,  -0.35686275, -42.        , -13.8627451 ,\n",
       "        -0.35686275,  -0.35686275,  42.41176471,  14.2745098 ,\n",
       "        -0.35686275,  -0.35686275, -42.        , -13.8627451 ])"
      ]
     },
     "execution_count": 26,
     "metadata": {},
     "output_type": "execute_result"
    }
   ],
   "execution_count": 26
  },
  {
   "metadata": {
    "ExecuteTime": {
     "end_time": "2025-08-22T06:16:30.497618Z",
     "start_time": "2025-08-22T06:16:30.493832Z"
    }
   },
   "cell_type": "code",
   "source": "flat_coef",
   "id": "483c11cbc7cf92af",
   "outputs": [
    {
     "data": {
      "text/plain": [
       "array([ 21.  , 161.  , 148.75, 131.25, 147.  , 287.  , 120.75, 103.25,\n",
       "       -21.  , -21.  , -17.5 , -17.5 ,  -7.  ,  -7.  ,  45.5 ,  45.5 ,\n",
       "         8.75,   8.75,  33.25,   5.25,  -5.25,  -5.25,  19.25,  -8.75,\n",
       "        -5.25,  -5.25,  19.25,  -8.75,  36.75,  36.75,  61.25,  33.25,\n",
       "         0.  ,   0.  ,  42.  ,  14.  ,   0.  ,   0.  , -42.  , -14.  ,\n",
       "         0.  ,   0.  ,  42.  ,  14.  ,   0.  ,   0.  , -42.  , -14.  ,\n",
       "         0.  ,   0.  ,  42.  ,  14.  ,   0.  ,   0.  , -42.  , -14.  ,\n",
       "         0.  ,   0.  ,  42.  ,  14.  ,   0.  ,   0.  , -42.  , -14.  ])"
      ]
     },
     "execution_count": 24,
     "metadata": {},
     "output_type": "execute_result"
    }
   ],
   "execution_count": 24
  },
  {
   "metadata": {
    "ExecuteTime": {
     "end_time": "2025-08-19T15:26:45.811165Z",
     "start_time": "2025-08-19T15:26:45.808776Z"
    }
   },
   "cell_type": "code",
   "source": "flat_restored = centroids[clusters]",
   "id": "6e502188f8c6a3a2",
   "outputs": [],
   "execution_count": 11
  },
  {
   "metadata": {
    "ExecuteTime": {
     "end_time": "2025-08-19T15:26:46.223490Z",
     "start_time": "2025-08-19T15:26:46.220864Z"
    }
   },
   "cell_type": "code",
   "source": [
    "restored = list()\n",
    "idx = 0\n",
    "restored.append(flat_restored[:ci[0].size])\n",
    "idx = ci[0].size"
   ],
   "id": "5e5297336711444f",
   "outputs": [],
   "execution_count": 12
  },
  {
   "metadata": {
    "ExecuteTime": {
     "end_time": "2025-08-19T15:26:46.909528Z",
     "start_time": "2025-08-19T15:26:46.907065Z"
    }
   },
   "cell_type": "code",
   "source": [
    "for c in ci[1:]:\n",
    "    restored.append([])\n",
    "    for cc in c:\n",
    "        restored[-1].append(flat_restored[idx:idx+cc.size])\n",
    "        idx += cc.size"
   ],
   "id": "9a7ae4f70413c1d1",
   "outputs": [],
   "execution_count": 13
  },
  {
   "metadata": {
    "ExecuteTime": {
     "end_time": "2025-08-19T15:26:48.086152Z",
     "start_time": "2025-08-19T15:26:48.081241Z"
    }
   },
   "cell_type": "code",
   "source": "restored",
   "id": "f8f2249ccc6ae35f",
   "outputs": [
    {
     "data": {
      "text/plain": [
       "[array([162.315207]),\n",
       " [array([0.23522691])],\n",
       " [array([10.42569923])],\n",
       " [array([ -4.796521  , -10.69530487])],\n",
       " [array([-4.796521, -4.796521])],\n",
       " [array([10.42569923, 41.72211914,  0.23522691])],\n",
       " [array([-10.69530487,  35.86816406, -23.33789062, -23.33789062,\n",
       "         -10.69530487])],\n",
       " [array([ 82.6875    ,  10.42569923,  -4.796521  ,  82.6875    ,\n",
       "          10.42569923,  47.0625    , -23.33789062, -41.934375  ,\n",
       "          47.0625    , -23.33789062])],\n",
       " [array([ 47.0625    ,  47.0625    ,  47.0625    ,  47.0625    ,\n",
       "          47.0625    , -36.75      , -36.75      , -36.75      ,\n",
       "         -36.75      , -10.69530487, -10.69530487, -10.69530487,\n",
       "         -10.69530487, -10.69530487])],\n",
       " [array([ 22.75      ,  35.86816406,  63.        ,  22.75      ,\n",
       "          35.86816406,  63.        ,  22.75      ,  35.86816406,\n",
       "          63.        , -15.75      ,  -4.796521  ,  22.75      ,\n",
       "         -15.75      ,  -4.796521  ,  22.75      , -15.75      ,\n",
       "          -4.796521  ,  22.75      , -15.75      ,  -4.796521  ,\n",
       "          22.75      , -15.75      ,  -4.796521  ,  22.75      ,\n",
       "         -15.75      ,  -4.796521  ,  22.75      ])],\n",
       " [array([  0.23522691,   0.23522691,  41.72211914,   0.23522691,\n",
       "           0.23522691,  41.72211914,   0.23522691,   0.23522691,\n",
       "          41.72211914,   0.23522691,   0.23522691, -41.934375  ,\n",
       "           0.23522691,   0.23522691, -41.934375  ,   0.23522691,\n",
       "           0.23522691, -41.934375  ,   0.23522691,   0.23522691,\n",
       "          41.72211914,   0.23522691,   0.23522691,  41.72211914,\n",
       "           0.23522691,   0.23522691,  41.72211914,   0.23522691,\n",
       "           0.23522691, -41.934375  ,   0.23522691,   0.23522691,\n",
       "         -41.934375  ,   0.23522691,   0.23522691, -41.934375  ,\n",
       "           0.23522691,   0.23522691,  41.72211914,   0.23522691,\n",
       "           0.23522691,  41.72211914,   0.23522691,   0.23522691,\n",
       "          41.72211914,   0.23522691,   0.23522691, -41.934375  ,\n",
       "           0.23522691,   0.23522691, -41.934375  ,   0.23522691,\n",
       "           0.23522691, -41.934375  ])]]"
      ]
     },
     "execution_count": 14,
     "metadata": {},
     "output_type": "execute_result"
    }
   ],
   "execution_count": 14
  },
  {
   "metadata": {},
   "cell_type": "code",
   "outputs": [],
   "execution_count": null,
   "source": "",
   "id": "2631a99133a8e8b6"
  }
 ],
 "metadata": {
  "kernelspec": {
   "display_name": "Python 3",
   "language": "python",
   "name": "python3"
  },
  "language_info": {
   "codemirror_mode": {
    "name": "ipython",
    "version": 2
   },
   "file_extension": ".py",
   "mimetype": "text/x-python",
   "name": "python",
   "nbconvert_exporter": "python",
   "pygments_lexer": "ipython2",
   "version": "2.7.6"
  }
 },
 "nbformat": 4,
 "nbformat_minor": 5
}
